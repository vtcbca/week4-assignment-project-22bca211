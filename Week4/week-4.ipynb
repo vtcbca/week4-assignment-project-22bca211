{
 "cells": [
  {
   "cell_type": "code",
   "execution_count": 16,
   "id": "d2ad837a",
   "metadata": {},
   "outputs": [],
   "source": [
    "import sqlite3 as sq\n",
    "import datetime"
   ]
  },
  {
   "cell_type": "code",
   "execution_count": 17,
   "id": "a8b16e57",
   "metadata": {},
   "outputs": [],
   "source": [
    "con = sq.connect(\"contactmanagementsystem1.db\")"
   ]
  },
  {
   "cell_type": "code",
   "execution_count": 18,
   "id": "9a1d6e58",
   "metadata": {},
   "outputs": [],
   "source": [
    "cur = con.cursor()"
   ]
  },
  {
   "cell_type": "code",
   "execution_count": 19,
   "id": "a4ebad27",
   "metadata": {},
   "outputs": [
    {
     "data": {
      "text/plain": [
       "<sqlite3.Cursor at 0x2075b64a340>"
      ]
     },
     "execution_count": 19,
     "metadata": {},
     "output_type": "execute_result"
    }
   ],
   "source": [
    "cur.execute(\"\"\"create table if not exists contact\n",
    "               ( cid int primary key,\n",
    "                 fname text,\n",
    "                 lname text,\n",
    "                 contact number,\n",
    "                 email text,\n",
    "                 city text\n",
    "                 check ( email like '%_@_%._%')\n",
    "                );\"\"\")"
   ]
  },
  {
   "cell_type": "code",
   "execution_count": 20,
   "id": "51f7a6f4",
   "metadata": {},
   "outputs": [
    {
     "data": {
      "text/plain": [
       "<sqlite3.Cursor at 0x2075b64a340>"
      ]
     },
     "execution_count": 20,
     "metadata": {},
     "output_type": "execute_result"
    }
   ],
   "source": [
    "cur.execute(\"\"\"create table if not exists details_log\n",
    "                (\n",
    "                    \n",
    "                    fname text,\n",
    "                    lname text,\n",
    "                    newcontact number,\n",
    "                    oldcontact number,\n",
    "                    datetime text,\n",
    "                    operation text\n",
    "                    \n",
    "                )\"\"\")"
   ]
  },
  {
   "cell_type": "code",
   "execution_count": 21,
   "id": "a7461507",
   "metadata": {},
   "outputs": [
    {
     "data": {
      "text/plain": [
       "<sqlite3.Cursor at 0x2075b64a340>"
      ]
     },
     "execution_count": 21,
     "metadata": {},
     "output_type": "execute_result"
    }
   ],
   "source": [
    "cur.execute(\"\"\"create trigger if not exists insertdata\n",
    "               after insert on contact\n",
    "               begin\n",
    "                   insert into details_log\n",
    "                   values(new.fname,new.lname,new.contact,'NULL',datetime('now'),'insert');\n",
    "               end;\n",
    "                   \"\"\")"
   ]
  },
  {
   "cell_type": "code",
   "execution_count": 22,
   "id": "18e33a25",
   "metadata": {},
   "outputs": [
    {
     "data": {
      "text/plain": [
       "<sqlite3.Cursor at 0x2075b64a340>"
      ]
     },
     "execution_count": 22,
     "metadata": {},
     "output_type": "execute_result"
    }
   ],
   "source": [
    "cur.execute(\"\"\"create trigger if not exists deletedata\n",
    "               after delete on contact\n",
    "               begin\n",
    "                   insert into details_log\n",
    "                   values(old.fname,old.lname,'NULL',old.contact,datetime('now'),'delete');\n",
    "               end;\n",
    "                   \"\"\")"
   ]
  },
  {
   "cell_type": "code",
   "execution_count": 23,
   "id": "50612964",
   "metadata": {},
   "outputs": [
    {
     "data": {
      "text/plain": [
       "<sqlite3.Cursor at 0x2075b64a340>"
      ]
     },
     "execution_count": 23,
     "metadata": {},
     "output_type": "execute_result"
    }
   ],
   "source": [
    "cur.execute(\"\"\"create trigger if not exists updatedata\n",
    "               after update on contact\n",
    "               begin\n",
    "                   insert into details_log\n",
    "                   values(new.fname,new.lname,new.contact,old.contact,datetime('now'),'update');\n",
    "               end;\n",
    "                   \"\"\")"
   ]
  },
  {
   "cell_type": "code",
   "execution_count": 24,
   "id": "851861db",
   "metadata": {},
   "outputs": [],
   "source": [
    "def updaterecord(cd):\n",
    "    newcon=int(input(\"Enter new Contact Number:\"))\n",
    "    cur.execute(f\"Update contact set contact={newcon} where cid={cd};\")"
   ]
  },
  {
   "cell_type": "code",
   "execution_count": 25,
   "id": "314d4e2f",
   "metadata": {},
   "outputs": [],
   "source": [
    "def deleterecord(cd):\n",
    "    cur.execute(f\"delete from contact where cid={cd}\")"
   ]
  },
  {
   "cell_type": "code",
   "execution_count": 26,
   "id": "8425e8d5",
   "metadata": {},
   "outputs": [],
   "source": [
    "def searchrecord(cd):\n",
    "    cur.execute(f\"select * from contact where cid={cd}\")\n",
    "    row=cur.fetchall()\n",
    "    print(row)"
   ]
  },
  {
   "cell_type": "code",
   "execution_count": 27,
   "id": "0db12229",
   "metadata": {},
   "outputs": [
    {
     "data": {
      "text/plain": [
       "<sqlite3.Cursor at 0x2075b64a340>"
      ]
     },
     "execution_count": 27,
     "metadata": {},
     "output_type": "execute_result"
    }
   ],
   "source": [
    "cur.execute(\"\"\"insert into contact values\n",
    "                (1,'jenil','rathod',9081764849,'jenil32@gmail.com','mahuva'),\n",
    "                (2,'savan','patel',9925146622,'savan21@gmail.com','surat'),\n",
    "                (3,'kunal','patil',5476563023,'savan33@gmail.com','mandvi'),\n",
    "                (4,'sahil','patel',8453546576,'sahil22@gmail.com','vyara'),\n",
    "                (5,'parth','shah',7486777657,'parth44@gmail.com','madhi');\"\"\")"
   ]
  },
  {
   "cell_type": "code",
   "execution_count": 28,
   "id": "5620f418",
   "metadata": {},
   "outputs": [
    {
     "name": "stdout",
     "output_type": "stream",
     "text": [
      "Enter new Contact Number:9385152459\n"
     ]
    }
   ],
   "source": [
    "updaterecord(2)"
   ]
  },
  {
   "cell_type": "code",
   "execution_count": 29,
   "id": "708d55d1",
   "metadata": {},
   "outputs": [],
   "source": [
    "deleterecord(3)"
   ]
  },
  {
   "cell_type": "code",
   "execution_count": 30,
   "id": "0e27e879",
   "metadata": {},
   "outputs": [
    {
     "name": "stdout",
     "output_type": "stream",
     "text": [
      "\n",
      "ID:1\n",
      "Fname:jenil\n",
      "Lname:rathod\n",
      "Contact:9081764849\n",
      "Email:jenil32@gmail.com\n",
      "city:mahuva\n",
      "\n",
      "ID:2\n",
      "Fname:savan\n",
      "Lname:patel\n",
      "Contact:9385152459\n",
      "Email:savan21@gmail.com\n",
      "city:surat\n",
      "\n",
      "ID:4\n",
      "Fname:sahil\n",
      "Lname:patel\n",
      "Contact:8453546576\n",
      "Email:sahil22@gmail.com\n",
      "city:vyara\n",
      "\n",
      "ID:5\n",
      "Fname:parth\n",
      "Lname:shah\n",
      "Contact:7486777657\n",
      "Email:parth44@gmail.com\n",
      "city:madhi\n"
     ]
    }
   ],
   "source": [
    "cur.execute(\"select * from contact\")\n",
    "row=cur.fetchall()\n",
    "for i in row:\n",
    "    print(f\"\\nID:{i[0]}\\nFname:{i[1]}\\nLname:{i[2]}\\nContact:{i[3]}\\nEmail:{i[4]}\\ncity:{i[5]}\")\n"
   ]
  },
  {
   "cell_type": "code",
   "execution_count": 31,
   "id": "faeefdd3",
   "metadata": {},
   "outputs": [
    {
     "name": "stdout",
     "output_type": "stream",
     "text": [
      "[('jenil', 'rathod', 9081764849, 'NULL', '2023-08-17 07:04:38', 'insert'), ('savan', 'patel', 9925146622, 'NULL', '2023-08-17 07:04:38', 'insert'), ('kunal', 'patil', 5476563023, 'NULL', '2023-08-17 07:04:38', 'insert'), ('sahil', 'patel', 8453546576, 'NULL', '2023-08-17 07:04:38', 'insert'), ('parth', 'shah', 7486777657, 'NULL', '2023-08-17 07:04:38', 'insert'), ('savan', 'patel', 9385152459, 9925146622, '2023-08-17 07:05:41', 'update'), ('kunal', 'patil', 'NULL', 5476563023, '2023-08-17 07:05:59', 'delete')]\n",
      "\n",
      "Fname:jenil\n",
      "Lname:rathod\n",
      "New-contact:9081764849\n",
      "Old-Contact:NULL\n",
      "Datetime:2023-08-17 07:04:38\n",
      "Operation:insert\n",
      "\n",
      "Fname:savan\n",
      "Lname:patel\n",
      "New-contact:9925146622\n",
      "Old-Contact:NULL\n",
      "Datetime:2023-08-17 07:04:38\n",
      "Operation:insert\n",
      "\n",
      "Fname:kunal\n",
      "Lname:patil\n",
      "New-contact:5476563023\n",
      "Old-Contact:NULL\n",
      "Datetime:2023-08-17 07:04:38\n",
      "Operation:insert\n",
      "\n",
      "Fname:sahil\n",
      "Lname:patel\n",
      "New-contact:8453546576\n",
      "Old-Contact:NULL\n",
      "Datetime:2023-08-17 07:04:38\n",
      "Operation:insert\n",
      "\n",
      "Fname:parth\n",
      "Lname:shah\n",
      "New-contact:7486777657\n",
      "Old-Contact:NULL\n",
      "Datetime:2023-08-17 07:04:38\n",
      "Operation:insert\n",
      "\n",
      "Fname:savan\n",
      "Lname:patel\n",
      "New-contact:9385152459\n",
      "Old-Contact:9925146622\n",
      "Datetime:2023-08-17 07:05:41\n",
      "Operation:update\n",
      "\n",
      "Fname:kunal\n",
      "Lname:patil\n",
      "New-contact:NULL\n",
      "Old-Contact:5476563023\n",
      "Datetime:2023-08-17 07:05:59\n",
      "Operation:delete\n"
     ]
    }
   ],
   "source": [
    "cur.execute(\"select * from details_log\")\n",
    "row1=cur.fetchall()\n",
    "print(row1)\n",
    "for i in row1:\n",
    "    print(f\"\\nFname:{i[0]}\\nLname:{i[1]}\\nNew-contact:{i[2]}\\nOld-Contact:{i[3]}\\nDatetime:{i[4]}\\nOperation:{i[5]}\")\n"
   ]
  },
  {
   "cell_type": "code",
   "execution_count": null,
   "id": "6861e942",
   "metadata": {},
   "outputs": [],
   "source": []
  }
 ],
 "metadata": {
  "kernelspec": {
   "display_name": "Python 3 (ipykernel)",
   "language": "python",
   "name": "python3"
  },
  "language_info": {
   "codemirror_mode": {
    "name": "ipython",
    "version": 3
   },
   "file_extension": ".py",
   "mimetype": "text/x-python",
   "name": "python",
   "nbconvert_exporter": "python",
   "pygments_lexer": "ipython3",
   "version": "3.11.4"
  }
 },
 "nbformat": 4,
 "nbformat_minor": 5
}
